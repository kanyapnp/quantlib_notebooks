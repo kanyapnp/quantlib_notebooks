{
 "cells": [
  {
   "cell_type": "code",
   "execution_count": 1,
   "metadata": {},
   "outputs": [],
   "source": [
    "import numpy as np\n",
    "import matplotlib.pyplot as plt\n",
    "import QuantLib as ql\n",
    "import pandas as pd\n",
    "\n",
    "from IPython.display import HTML\n",
    "\n",
    "%matplotlib inline\n",
    "HTML( '<style>.dataframe td { text-align: center; }</style>' );"
   ]
  },
  {
   "cell_type": "code",
   "execution_count": 2,
   "metadata": {},
   "outputs": [],
   "source": [
    "# Setting evaluation date\n",
    "calc_date = ql.Date(26,2,2018)\n",
    "ql.Settings.instance().setEvaluationDate(calc_date)\n",
    "\n",
    "# IR curve\n",
    "flat_ir_rate = 0.02\n",
    "\n",
    "# CDS market\n",
    "recovery_rate = 0.40\n",
    "cds_market = [ (0.5, 0.005), (1, 0.01), (2, 0.015), (3, 0.0175), (4, 0.02), (5, 0.035) ]"
   ]
  },
  {
   "cell_type": "code",
   "execution_count": 3,
   "metadata": {},
   "outputs": [],
   "source": [
    "def build_ir_curve( flat_rate ):\n",
    "    yts = ql.FlatForward( calc_date, flat_rate, ql.Actual365Fixed())\n",
    "    yts.enableExtrapolation()\n",
    "    libor_curve = ql.RelinkableYieldTermStructureHandle( yts )\n",
    "    libor3M_index = ql.USDLibor(ql.Period( \"3m\" ), libor_curve )\n",
    "    \n",
    "    return libor3M_index, libor_curve\n",
    "\n",
    "def build_cds_curve( cds_market ):\n",
    "    cdss = [ ql.SpreadCdsHelper( ql.QuoteHandle( ql.SimpleQuote( s ) ),\n",
    "                                ql.Period( int( t * 12 ), ql.Months ),\n",
    "                                0,  # Settlement Days\n",
    "                                ql.UnitedStates(),\n",
    "                                ql.Quarterly,\n",
    "                                ql.Following,\n",
    "                                ql.DateGeneration.TwentiethIMM,\n",
    "                                ql.Actual365Fixed(),\n",
    "                                recovery_rate,\n",
    "                                libor_curve ) for t,s in cds_market ]\n",
    "    hazard_curve = ql.PiecewiseFlatHazardRate( calc_date, cdss, ql.Actual365Fixed() )\n",
    "    hazard_curve.enableExtrapolation()\n",
    "    \n",
    "    return hazard_curve"
   ]
  },
  {
   "cell_type": "code",
   "execution_count": 4,
   "metadata": {},
   "outputs": [],
   "source": [
    "# swap is 6M ACT/360 vs 3mLIBOR\n",
    "def create_swap( tenor, index_curve, discount_curve, swap_rate, spread=0.0 ):\n",
    "    calendar = ql.UnitedStates()\n",
    "    settle_date = calendar.advance( calc_date, 2, ql.Days )\n",
    "    maturity_date = calendar.advance( settle_date, tenor, ql.Years )\n",
    "\n",
    "    fixed_leg_tenor = ql.Period(6, ql.Months)\n",
    "    fixed_schedule = ql.Schedule(settle_date, maturity_date, \n",
    "                                 fixed_leg_tenor, calendar,\n",
    "                                 ql.ModifiedFollowing, ql.ModifiedFollowing,\n",
    "                                 ql.DateGeneration.Forward, False)\n",
    "\n",
    "    float_leg_tenor = ql.Period(3, ql.Months)\n",
    "    float_schedule = ql.Schedule( settle_date, maturity_date, \n",
    "                                  float_leg_tenor, calendar,\n",
    "                                  ql.ModifiedFollowing, ql.ModifiedFollowing,\n",
    "                                  ql.DateGeneration.Forward, False )\n",
    "    \n",
    "    ir_swap = ql.VanillaSwap(ql.VanillaSwap.Payer, 1.0, fixed_schedule, \n",
    "                swap_rate, ql.Actual360(), float_schedule,\n",
    "                index_curve, spread, ql.Actual360() )\n",
    "    \n",
    "    return ir_swap, [index_curve.fixingDate(x) for x in float_schedule][:-1]\n",
    "\n",
    "def price_swap( ir_swap, discount_curve ):\n",
    "    swap_engine = ql.DiscountingSwapEngine( discount_curve )\n",
    "    ir_swap.setPricingEngine( swap_engine )\n",
    "\n",
    "    return ir_swap.fairRate()\n"
   ]
  },
  {
   "cell_type": "code",
   "execution_count": 5,
   "metadata": {},
   "outputs": [
    {
     "data": {
      "text/html": [
       "<table border=\"1\" class=\"dataframe\">\n",
       "  <thead>\n",
       "    <tr style=\"text-align: right;\">\n",
       "      <th>Swap_tenor</th>\n",
       "      <th>Fair_Spread</th>\n",
       "    </tr>\n",
       "  </thead>\n",
       "  <tbody>\n",
       "    <tr>\n",
       "      <td>1</td>\n",
       "      <td>0.019825</td>\n",
       "    </tr>\n",
       "    <tr>\n",
       "      <td>2</td>\n",
       "      <td>0.019825</td>\n",
       "    </tr>\n",
       "    <tr>\n",
       "      <td>3</td>\n",
       "      <td>0.019825</td>\n",
       "    </tr>\n",
       "    <tr>\n",
       "      <td>4</td>\n",
       "      <td>0.019825</td>\n",
       "    </tr>\n",
       "    <tr>\n",
       "      <td>5</td>\n",
       "      <td>0.019825</td>\n",
       "    </tr>\n",
       "  </tbody>\n",
       "</table>"
      ],
      "text/plain": [
       "<IPython.core.display.HTML object>"
      ]
     },
     "execution_count": 5,
     "metadata": {},
     "output_type": "execute_result"
    }
   ],
   "source": [
    "libor3M_index, libor_curve = build_ir_curve( flat_ir_rate )\n",
    "\n",
    "swap_rates = [ (i, price_swap( create_swap( i, libor3M_index, libor_curve, 0.0 )[0], libor_curve ) ) for i in range( 1, 6 ) ]\n",
    "df_swaps = pd.DataFrame( data=swap_rates, columns=[ 'Swap_tenor', 'Fair_Spread' ] )\n",
    "HTML( df_swaps.to_html( index=False ) )"
   ]
  },
  {
   "cell_type": "markdown",
   "metadata": {},
   "source": [
    "CDS pricing\n",
    "===========\n",
    "\n",
    "Show hazard rates\n",
    "-----------------"
   ]
  },
  {
   "cell_type": "code",
   "execution_count": 6,
   "metadata": {},
   "outputs": [
    {
     "data": {
      "text/html": [
       "<table border=\"1\" class=\"dataframe\">\n",
       "  <thead>\n",
       "    <tr style=\"text-align: right;\">\n",
       "      <th>Tenor</th>\n",
       "      <th>CDS_Spread</th>\n",
       "      <th>Hazard_Rate</th>\n",
       "    </tr>\n",
       "  </thead>\n",
       "  <tbody>\n",
       "    <tr>\n",
       "      <td>0.5</td>\n",
       "      <td>0.0050</td>\n",
       "      <td>0.008314</td>\n",
       "    </tr>\n",
       "    <tr>\n",
       "      <td>1.0</td>\n",
       "      <td>0.0100</td>\n",
       "      <td>0.026273</td>\n",
       "    </tr>\n",
       "    <tr>\n",
       "      <td>2.0</td>\n",
       "      <td>0.0150</td>\n",
       "      <td>0.034168</td>\n",
       "    </tr>\n",
       "    <tr>\n",
       "      <td>3.0</td>\n",
       "      <td>0.0175</td>\n",
       "      <td>0.038396</td>\n",
       "    </tr>\n",
       "    <tr>\n",
       "      <td>4.0</td>\n",
       "      <td>0.0200</td>\n",
       "      <td>0.047638</td>\n",
       "    </tr>\n",
       "    <tr>\n",
       "      <td>5.0</td>\n",
       "      <td>0.0350</td>\n",
       "      <td>0.185557</td>\n",
       "    </tr>\n",
       "  </tbody>\n",
       "</table>"
      ],
      "text/plain": [
       "<IPython.core.display.HTML object>"
      ]
     },
     "execution_count": 6,
     "metadata": {},
     "output_type": "execute_result"
    }
   ],
   "source": [
    "hazard_curve = build_cds_curve( cds_market )\n",
    "\n",
    "df_cds = pd.DataFrame( data=cds_market, columns=[ 'Tenor', 'CDS_Spread' ] )\n",
    "df_cds[ 'Hazard_Rate' ] = [ n[1] for n in hazard_curve.nodes() ][ 1: ]\n",
    "HTML( df_cds.to_html( index=False ) )"
   ]
  },
  {
   "cell_type": "markdown",
   "metadata": {},
   "source": [
    "CVA Calculations\n",
    "----"
   ]
  },
  {
   "cell_type": "code",
   "execution_count": 7,
   "metadata": {},
   "outputs": [],
   "source": [
    "def calc_cva( calc_date, hazard_curve, discount_curve, index_curve, recovery_rate, ir_vol=0.0075, swap_term=5, swap_rate=0.0, notional=10000, N=2000, seed=1 ):\n",
    "\n",
    "    ql.Settings.instance().setEvaluationDate(calc_date)\n",
    "    \n",
    "    # IR vol\n",
    "    volas = [ql.QuoteHandle(ql.SimpleQuote(ir_vol)), ql.QuoteHandle(ql.SimpleQuote(ir_vol))]\n",
    "    meanRev = [ql.QuoteHandle(ql.SimpleQuote(0.02))]\n",
    "    model = ql.Gsr( discount_curve, [calc_date+100], volas, meanRev, 16.)    \n",
    "    \n",
    "    # set up swap portfolio\n",
    "    portfolio = [ create_swap( swap_term, index_curve, discount_curve, swap_rate ) ]\n",
    "    \n",
    "    # Setup pricing engine and calculate the npv\n",
    "    #hyts = ql.RelinkableYieldTermStructureHandle( discount_curve )\n",
    "    engine = ql.DiscountingSwapEngine(discount_curve)\n",
    "    for deal, fixingDates in portfolio:\n",
    "        deal.setPricingEngine(engine)\n",
    "        deal.NPV()\n",
    "\n",
    "    process = model.stateProcess()\n",
    "    \n",
    "    # Define evaluation grid\n",
    "    date_grid = [ calc_date + ql.Period(i,ql.Months) for i in range(0,12*6) ]\n",
    "    for deal in portfolio:\n",
    "        date_grid += deal[1]\n",
    "\n",
    "    date_grid = np.unique(np.sort(date_grid))\n",
    "    time_grid = np.vectorize(lambda x: ql.ActualActual().yearFraction(calc_date, x))(date_grid)\n",
    "    dt = time_grid[1:] - time_grid[:-1]\n",
    "    \n",
    "    # Calculation of the default probs\n",
    "    defaultProb_vec = np.vectorize( hazard_curve.defaultProbability )\n",
    "    dPD = defaultProb_vec(time_grid[:-1], time_grid[1:])\n",
    "    \n",
    "    # Random number generator\n",
    "    urng = ql.MersenneTwisterUniformRng( seed )\n",
    "    usrg = ql.MersenneTwisterUniformRsg( len( time_grid )-1,urng)\n",
    "    generator = ql.InvCumulativeMersenneTwisterGaussianRsg( usrg )\n",
    "    \n",
    "    x = np.zeros((N, len(time_grid)))\n",
    "    y = np.zeros((N, len(time_grid)))\n",
    "    pillars = np.array([0.0, 0.5, 1, 2, 3, 4, 5, 6, 7, 8, 9, 10])\n",
    "    zero_bonds = np.zeros((N, len(time_grid), 12))\n",
    "\n",
    "    for j in range(12):\n",
    "        zero_bonds[:, 0, j] = model.zerobond( pillars[j], 0, 0 )\n",
    "        \n",
    "    for n in range(0,N):\n",
    "        dWs = generator.nextSequence().value()\n",
    "        for i in range(1, len(time_grid)):\n",
    "            t0 = time_grid[i-1]\n",
    "            t1 = time_grid[i]\n",
    "            \n",
    "            x[n,i] = process.expectation(t0, x[n,i-1], dt[i-1]) + dWs[i-1] * process.stdDeviation(t0, x[n,i-1], dt[i-1] )\n",
    "            y[n,i] = (x[n,i] - process.expectation(0,0,t1)) / process.stdDeviation(0,0,t1)\n",
    "                        \n",
    "            for j in range(12):\n",
    "                zero_bonds[n, i, j] = model.zerobond( t1 + pillars[j], t1, y[n, i] )\n",
    "\n",
    "    discount_factors = np.vectorize(discount_curve.discount)(time_grid)\n",
    "    \n",
    "    npv_cube = np.zeros((N,len(date_grid), len(portfolio)))\n",
    "    for p in range(0,N):\n",
    "        for t in range(0, len(date_grid)):\n",
    "            date = date_grid[t]\n",
    "            ql.Settings.instance().setEvaluationDate(date)\n",
    "            ycDates = [date, \n",
    "                       date + ql.Period(6, ql.Months)] \n",
    "            ycDates += [date + ql.Period(i,ql.Years) for i in range(1,11)]\n",
    "            yc = ql.DiscountCurve(ycDates, \n",
    "                                  zero_bonds[p, t, :], \n",
    "                                  ql.Actual365Fixed())\n",
    "            yc.enableExtrapolation()\n",
    "            discount_curve.linkTo(yc)\n",
    "            if index_curve.isValidFixingDate(date):\n",
    "                fixing = index_curve.fixing(date)\n",
    "                index_curve.addFixing(date, fixing)\n",
    "            for i in range(len(portfolio)):\n",
    "                npv_cube[p, t, i] = portfolio[i][0].NPV()\n",
    "        ql.IndexManager.instance().clearHistories()\n",
    "        \n",
    "    # revert the date\n",
    "    ql.Settings.instance().setEvaluationDate(calc_date)\n",
    "    #discount_curve.linkTo(yts)\n",
    "    \n",
    "    # Calculate the discounted npvs\n",
    "    discounted_cube = np.zeros(npv_cube.shape)\n",
    "    for i in range(npv_cube.shape[2]):\n",
    "        discounted_cube[:,:,i] = npv_cube[:,:,i] * discount_factors\n",
    "    \n",
    "    # Calculate the portfolio npv by netting all NPV\n",
    "    portfolio_npv = np.sum(npv_cube,axis=2)\n",
    "    discounted_npv = np.sum(discounted_cube, axis=2)\n",
    "    \n",
    "    # calculate expected exposure\n",
    "    dE = discounted_npv.copy()\n",
    "    dE[dE<0] = 0\n",
    "    dEE = np.sum(dE, axis=0)/N\n",
    "    dEEstd = np.std( dE / N, axis=0 )\n",
    "    \n",
    "    # Calculation of the CVA\n",
    "    CVA = (1-recovery_rate) * np.sum(dEE[1:] * dPD)\n",
    "    return CVA, dEE, dEEstd, dPD"
   ]
  },
  {
   "cell_type": "markdown",
   "metadata": {},
   "source": [
    "Calculate CVA charges and andjusted swap rates\n",
    "---"
   ]
  },
  {
   "cell_type": "code",
   "execution_count": 8,
   "metadata": {},
   "outputs": [],
   "source": [
    "def cva_helper( st, sr ):\n",
    "    ql.Settings.instance().setEvaluationDate(calc_date)\n",
    "    libor3M_index, libor_curve = build_ir_curve( flat_ir_rate )\n",
    "    hazard_curve = build_cds_curve( cds_market )\n",
    "\n",
    "    cva = calc_cva(calc_date, hazard_curve, libor_curve, libor3M_index, recovery_rate, swap_term=t, swap_rate=sr )[0]\n",
    "    return cva\n",
    "    \n",
    "swap_cvas = [ (t, cva_helper( t, sr )) for t, sr in swap_rates ]"
   ]
  },
  {
   "cell_type": "code",
   "execution_count": 9,
   "metadata": {},
   "outputs": [
    {
     "data": {
      "text/html": [
       "<table border=\"1\" class=\"dataframe\">\n",
       "  <thead>\n",
       "    <tr style=\"text-align: right;\">\n",
       "      <th>Swap_Tenor</th>\n",
       "      <th>CVA</th>\n",
       "    </tr>\n",
       "  </thead>\n",
       "  <tbody>\n",
       "    <tr>\n",
       "      <td>1</td>\n",
       "      <td>0.000004</td>\n",
       "    </tr>\n",
       "    <tr>\n",
       "      <td>2</td>\n",
       "      <td>0.000041</td>\n",
       "    </tr>\n",
       "    <tr>\n",
       "      <td>3</td>\n",
       "      <td>0.000132</td>\n",
       "    </tr>\n",
       "    <tr>\n",
       "      <td>4</td>\n",
       "      <td>0.000322</td>\n",
       "    </tr>\n",
       "    <tr>\n",
       "      <td>5</td>\n",
       "      <td>0.000717</td>\n",
       "    </tr>\n",
       "  </tbody>\n",
       "</table>"
      ],
      "text/plain": [
       "<IPython.core.display.HTML object>"
      ]
     },
     "execution_count": 9,
     "metadata": {},
     "output_type": "execute_result"
    }
   ],
   "source": [
    "df_swap_cvas = pd.DataFrame( data=swap_cvas, columns=[ 'Swap_Tenor', 'CVA' ] )\n",
    "HTML( df_swap_cvas.to_html( index=False ) )"
   ]
  },
  {
   "cell_type": "code",
   "execution_count": 10,
   "metadata": {},
   "outputs": [],
   "source": [
    "def swap_helper( t, ic, dc, sr, sprd ):\n",
    "    ir_swap, _ = create_swap( t, ic, dc, sr, sprd )\n",
    "    asr = price_swap( ir_swap, dc )\n",
    "    return asr\n",
    "\n",
    "libor3M_index, libor_curve = build_ir_curve( flat_ir_rate )\n",
    "hazard_curve = build_cds_curve( cds_market )\n",
    "adjusted_swap_rates = [ swap_helper( t, libor3M_index, libor_curve, swap_rates[i][1], -swap_cvas[i][1] ) for i in range( len( swap_rates)) ]"
   ]
  },
  {
   "cell_type": "code",
   "execution_count": 11,
   "metadata": {},
   "outputs": [
    {
     "data": {
      "text/html": [
       "<table border=\"1\" class=\"dataframe\">\n",
       "  <thead>\n",
       "    <tr style=\"text-align: right;\">\n",
       "      <th>Swap_Tenor</th>\n",
       "      <th>CVA</th>\n",
       "      <th>ATM_Swap</th>\n",
       "      <th>Adjusted_Swap_Rate</th>\n",
       "    </tr>\n",
       "  </thead>\n",
       "  <tbody>\n",
       "    <tr>\n",
       "      <td>1</td>\n",
       "      <td>0.000004</td>\n",
       "      <td>0.019825</td>\n",
       "      <td>0.019821</td>\n",
       "    </tr>\n",
       "    <tr>\n",
       "      <td>2</td>\n",
       "      <td>0.000041</td>\n",
       "      <td>0.019825</td>\n",
       "      <td>0.019784</td>\n",
       "    </tr>\n",
       "    <tr>\n",
       "      <td>3</td>\n",
       "      <td>0.000132</td>\n",
       "      <td>0.019825</td>\n",
       "      <td>0.019693</td>\n",
       "    </tr>\n",
       "    <tr>\n",
       "      <td>4</td>\n",
       "      <td>0.000322</td>\n",
       "      <td>0.019825</td>\n",
       "      <td>0.019502</td>\n",
       "    </tr>\n",
       "    <tr>\n",
       "      <td>5</td>\n",
       "      <td>0.000717</td>\n",
       "      <td>0.019825</td>\n",
       "      <td>0.019107</td>\n",
       "    </tr>\n",
       "  </tbody>\n",
       "</table>"
      ],
      "text/plain": [
       "<IPython.core.display.HTML object>"
      ]
     },
     "execution_count": 11,
     "metadata": {},
     "output_type": "execute_result"
    }
   ],
   "source": [
    "df_swap_cvas[ 'ATM_Swap' ] = [ x[1] for x in swap_rates ]\n",
    "df_swap_cvas[ 'Adjusted_Swap_Rate' ] = adjusted_swap_rates\n",
    "HTML( df_swap_cvas.to_html( index=False ) )"
   ]
  },
  {
   "cell_type": "markdown",
   "metadata": {},
   "source": [
    "## Calculate and graph Expected Exposure\n",
    "### For 5y swap struck at 1.9825%\n"
   ]
  },
  {
   "cell_type": "code",
   "execution_count": 12,
   "metadata": {},
   "outputs": [],
   "source": [
    "res = calc_cva(calc_date, hazard_curve, libor_curve, libor3M_index, recovery_rate, swap_term=5, swap_rate=0.019825 )"
   ]
  },
  {
   "cell_type": "code",
   "execution_count": 13,
   "metadata": {},
   "outputs": [
    {
     "name": "stdout",
     "output_type": "stream",
     "text": [
      "Calculated cva: 7.167 [bps]\n",
      "Mean(EE): 52.467 [bps], std(EE): 0.045 [bps]\n"
     ]
    },
    {
     "data": {
      "image/png": "[encoded data removed]",
      "text/plain": [
       "<matplotlib.figure.Figure at 0x7fa063a636d0>"
      ]
     },
     "metadata": {},
     "output_type": "display_data"
    }
   ],
   "source": [
    "cva, ee, eestd, dpd = res\n",
    "\n",
    "print( 'Calculated cva: {0:.3f} [bps]'.format( cva * 10000.0 ) )\n",
    "print( 'Mean(EE): {0:.3f} [bps], std(EE): {1:.3f} [bps]'.format( ee.mean() * 10000.0, eestd.mean() * 10000.0 ) )\n",
    "plt.plot( np.arange( ee.shape[0] ), ee * 10000.0, 'b' )\n",
    "plt.ylabel( 'Expected Exposure [bps]' ); plt.xlabel( 'Months' ); plt.title( '5Y payer swap 6m vs 3mL' );"
   ]
  },
  {
   "cell_type": "code",
   "execution_count": null,
   "metadata": {},
   "outputs": [],
   "source": []
  }
 ],
 "metadata": {
  "kernelspec": {
   "display_name": "Python 2",
   "language": "python",
   "name": "python2"
  },
  "language_info": {
   "codemirror_mode": {
    "name": "ipython",
    "version": 2
   },
   "file_extension": ".py",
   "mimetype": "text/x-python",
   "name": "python",
   "nbconvert_exporter": "python",
   "pygments_lexer": "ipython2",
   "version": "2.7.12"
  }
 },
 "nbformat": 4,
 "nbformat_minor": 1
}
