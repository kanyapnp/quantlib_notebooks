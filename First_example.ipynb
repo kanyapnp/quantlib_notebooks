{
 "cells": [
  {
   "cell_type": "markdown",
   "metadata": {},
   "source": [
    "# First Example using QuantLib"
   ]
  },
  {
   "cell_type": "markdown",
   "metadata": {},
   "source": [
    "*Copyright (c) 2015 Matthias Groncki*\n",
    "\n",
    "\n",
    "Redistribution and use in source and binary forms, with or without\n",
    "modification, are permitted provided that the following conditions are met:\n",
    "\n",
    "    - Redistributions of source code must retain the above copyright notice,\n",
    "    this list of conditions and the following disclaimer.\n",
    "\n",
    "THIS SOFTWARE IS PROVIDED BY THE COPYRIGHT HOLDERS AND CONTRIBUTORS \"AS IS\"\n",
    "AND ANY EXPRESS OR IMPLIED WARRANTIES, INCLUDING, BUT NOT LIMITED TO, THE\n",
    "IMPLIED WARRANTIES OF MERCHANTABILITY AND FITNESS FOR A PARTICULAR PURPOSE ARE\n",
    "DISCLAIMED. IN NO EVENT SHALL THE COPYRIGHT HOLDERS OR CONTRIBUTORS BE LIABLE\n",
    "FOR ANY DIRECT, INDIRECT, INCIDENTAL, SPECIAL, EXEMPLARY, OR CONSEQUENTIAL\n",
    "DAMAGES (INCLUDING, BUT NOT LIMITED TO, PROCUREMENT OF SUBSTITUTE GOODS OR\n",
    "SERVICES; LOSS OF USE, DATA, OR PROFITS; OR BUSINESS INTERRUPTION) HOWEVER\n",
    "CAUSED AND ON ANY THEORY OF LIABILITY, WHETHER IN CONTRACT, STRICT LIABILITY,\n",
    "OR TORT (INCLUDING NEGLIGENCE OR OTHERWISE) ARISING IN ANY WAY OUT OF THE USE\n",
    "OF THIS SOFTWARE, EVEN IF ADVISED OF THE POSSIBILITY OF SUCH DAMAGE.\n",
    "\n",
    "This disclaimer is taken from the QuantLib license"
   ]
  },
  {
   "cell_type": "code",
   "execution_count": 22,
   "metadata": {
    "collapsed": true
   },
   "outputs": [],
   "source": [
    "import QuantLib as ql\n",
    "import numpy as np\n",
    "import matplotlib.pyplot as plt"
   ]
  },
  {
   "cell_type": "code",
   "execution_count": 23,
   "metadata": {
    "collapsed": true
   },
   "outputs": [],
   "source": [
    "%matplotlib inline"
   ]
  },
  {
   "cell_type": "code",
   "execution_count": 24,
   "metadata": {
    "collapsed": false
   },
   "outputs": [],
   "source": [
    "# Set Evaluation Date\n",
    "today = ql.Date(31,3,2015)\n",
    "ql.Settings.instance().setEvaluationDate(today)"
   ]
  },
  {
   "cell_type": "code",
   "execution_count": 25,
   "metadata": {
    "collapsed": true
   },
   "outputs": [],
   "source": [
    "# Pricing a plain vanilla interest rate swap"
   ]
  },
  {
   "cell_type": "code",
   "execution_count": 63,
   "metadata": {
    "collapsed": false
   },
   "outputs": [],
   "source": [
    "# Flat yield curve\n",
    "rate = ql.SimpleQuote(0.03)\n",
    "rate_handle = ql.QuoteHandle(rate)\n",
    "dc = ql.Actual365Fixed()\n",
    "disc_curve = ql.FlatForward(today, rate_handle, dc)\n",
    "disc_curve.enableExtrapolation()\n",
    "hyts = ql.YieldTermStructureHandle(disc_curve)"
   ]
  },
  {
   "cell_type": "markdown",
   "metadata": {},
   "source": [
    "## Plot the yield curve"
   ]
  },
  {
   "cell_type": "code",
   "execution_count": 64,
   "metadata": {
    "collapsed": false
   },
   "outputs": [
    {
     "data": {
      "text/plain": [
       "<matplotlib.text.Text at 0x10b6cfed0>"
      ]
     },
     "execution_count": 64,
     "metadata": {},
     "output_type": "execute_result"
    },
    {
     "data": {
      "image/png": "[encoded data removed]",
      "text/plain": [
       "<matplotlib.figure.Figure at 0x10b266410>"
      ]
     },
     "metadata": {},
     "output_type": "display_data"
    }
   ],
   "source": [
    "discount = np.vectorize(hyts.discount)\n",
    "tg = np.arange(0,10,1./12.)\n",
    "plt.plot(tg, discount(tg))\n",
    "plt.xlabel(\"time\")\n",
    "plt.ylabel(\"discount factor\")\n",
    "plt.title(\"Flat Forward Curve\")"
   ]
  },
  {
   "cell_type": "markdown",
   "metadata": {},
   "source": [
    "##Setup the swap"
   ]
  },
  {
   "cell_type": "code",
   "execution_count": 65,
   "metadata": {
    "collapsed": false
   },
   "outputs": [],
   "source": [
    "start = ql.TARGET().advance(today, ql.Period(\"2D\"))\n",
    "\n",
    "end = ql.TARGET().advance(start, ql.Period(\"10Y\"))\n",
    "\n",
    "nominal = 1e7\n",
    "\n",
    "typ = ql.VanillaSwap.Payer\n",
    "\n",
    "fixRate = 0.03\n",
    "\n",
    "fixedLegTenor = ql.Period(\"1y\")\n",
    "\n",
    "fixedLegBDC = ql.ModifiedFollowing\n",
    "\n",
    "fixedLegDC = ql.Thirty360(ql.Thirty360.BondBasis)\n",
    "\n",
    "index = ql.Euribor6M(ql.YieldTermStructureHandle(disc_curve))\n",
    "\n",
    "spread = 0.0\n",
    "\n",
    "fixedSchedule = ql.Schedule(start,\n",
    "                            end,\n",
    "                            fixedLegTenor,\n",
    "                            index.fixingCalendar(),\n",
    "                            fixedLegBDC,\n",
    "                            fixedLegBDC,\n",
    "                            ql.DateGeneration.Backward,\n",
    "                            False)\n",
    "\n",
    "floatSchedule = ql.Schedule(start,\n",
    "                            end,\n",
    "                            index.tenor(),\n",
    "                            index.fixingCalendar(),\n",
    "                            index.businessDayConvention(),\n",
    "                            index.businessDayConvention(),\n",
    "                            ql.DateGeneration.Backward,\n",
    "                            False)\n",
    "\n",
    "swap = ql.VanillaSwap(typ,\n",
    "                      nominal,\n",
    "                      fixedSchedule,\n",
    "                      fixRate,\n",
    "                      fixedLegDC,\n",
    "                      floatSchedule,\n",
    "                      index,\n",
    "                      spread,\n",
    "                      index.dayCounter())\n"
   ]
  },
  {
   "cell_type": "markdown",
   "metadata": {},
   "source": [
    "##Setup pricing engine"
   ]
  },
  {
   "cell_type": "code",
   "execution_count": 59,
   "metadata": {
    "collapsed": false
   },
   "outputs": [],
   "source": [
    "engine = ql.DiscountingSwapEngine(ql.YieldTermStructureHandle(disc_curve))"
   ]
  },
  {
   "cell_type": "code",
   "execution_count": 60,
   "metadata": {
    "collapsed": true
   },
   "outputs": [],
   "source": [
    "swap.setPricingEngine(engine)"
   ]
  },
  {
   "cell_type": "markdown",
   "metadata": {},
   "source": [
    "## Calculate NPV and fair rate"
   ]
  },
  {
   "cell_type": "code",
   "execution_count": 61,
   "metadata": {
    "collapsed": false
   },
   "outputs": [
    {
     "data": {
      "text/plain": [
       "40868.85186864901"
      ]
     },
     "execution_count": 61,
     "metadata": {},
     "output_type": "execute_result"
    }
   ],
   "source": [
    "swap.NPV()"
   ]
  },
  {
   "cell_type": "code",
   "execution_count": 62,
   "metadata": {
    "collapsed": false
   },
   "outputs": [
    {
     "data": {
      "text/plain": [
       "0.0304803675048478"
      ]
     },
     "execution_count": 62,
     "metadata": {},
     "output_type": "execute_result"
    }
   ],
   "source": [
    "swap.fairRate()"
   ]
  },
  {
   "cell_type": "code",
   "execution_count": null,
   "metadata": {
    "collapsed": true
   },
   "outputs": [],
   "source": []
  },
  {
   "cell_type": "code",
   "execution_count": null,
   "metadata": {
    "collapsed": true
   },
   "outputs": [],
   "source": []
  }
 ],
 "metadata": {
  "kernelspec": {
   "display_name": "Python 2",
   "language": "python",
   "name": "python2"
  },
  "language_info": {
   "codemirror_mode": {
    "name": "ipython",
    "version": 2
   },
   "file_extension": ".py",
   "mimetype": "text/x-python",
   "name": "python",
   "nbconvert_exporter": "python",
   "pygments_lexer": "ipython2",
   "version": "2.7.6"
  }
 },
 "nbformat": 4,
 "nbformat_minor": 0
}
