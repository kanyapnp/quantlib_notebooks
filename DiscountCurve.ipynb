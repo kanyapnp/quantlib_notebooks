{
 "metadata": {
  "name": "",
  "signature": "sha256:6445e66d74d309a4556e264d2089e46f1850726fc61ce06a8e662087996e8550"
 },
 "nbformat": 3,
 "nbformat_minor": 0,
 "worksheets": [
  {
   "cells": [
    {
     "cell_type": "code",
     "collapsed": false,
     "input": [
      "import numpy as np\n",
      "import matplotlib.pyplot as plt\n",
      "import QuantLib as ql\n",
      "%matplotlib inline"
     ],
     "language": "python",
     "metadata": {},
     "outputs": [],
     "prompt_number": 2
    },
    {
     "cell_type": "code",
     "collapsed": false,
     "input": [
      "# Setting evaluation date\n",
      "calc_date = ql.Date(13,2,2018)\n",
      "ql.Settings.instance().setEvaluationDate(calc_date)"
     ],
     "language": "python",
     "metadata": {},
     "outputs": [],
     "prompt_number": 26
    },
    {
     "cell_type": "markdown",
     "metadata": {},
     "source": [
      "Market data from: https://www.thefinancials.com/Default.aspx?SubSectionID=homesumm&ReportFileName=EX_Interest_Swaps.html"
     ]
    },
    {
     "cell_type": "code",
     "collapsed": false,
     "input": [
      "# Deposit rates\n",
      "depo_maturities = [ 0.5, 1.0 ]\n",
      "depo_rates = [ 0.020486, 0.023191 ]\n",
      "\n",
      "swap_maturities = [ 1,2,3,5,7,10,30 ]\n",
      "swap_rates = [ r / 100.0 for r in [2.128,2.359,2.486,2.640,2.746,2.848,2.954] ]"
     ],
     "language": "python",
     "metadata": {},
     "outputs": [],
     "prompt_number": 9
    },
    {
     "cell_type": "code",
     "collapsed": false,
     "input": [
      "calendar = ql.UnitedStates()\n",
      "bussiness_convention = ql.Unadjusted\n",
      "day_count = ql.ActualActual()\n",
      "end_of_month = True\n",
      "settlement_days = 0\n",
      "face_amount = 100\n",
      "coupon_frequency = ql.Period(ql.Semiannual)\n",
      "settlement_days = 0\n",
      "swFixedLegFrequency = ql.Semiannual\n",
      "swFixedLegConvention = ql.Unadjusted\n",
      "swFixedLegDayCounter = ql.Thirty360()\n",
      "swFloatingLegIndex = ql.USDLibor(ql.Period(3, ql.Months))"
     ],
     "language": "python",
     "metadata": {},
     "outputs": [],
     "prompt_number": 36
    },
    {
     "cell_type": "code",
     "collapsed": false,
     "input": [
      "depo_market = [ql.DepositRateHelper(ql.QuoteHandle(ql.SimpleQuote(r)),\n",
      "                                     ql.Period( int( m * 12 ), ql.Months ),\n",
      "                                     settlement_days,\n",
      "                                     calendar,\n",
      "                                     bussiness_convention,\n",
      "                                     end_of_month,\n",
      "                                     day_count )\n",
      "                for r, m in zip(depo_rates, depo_maturities)]"
     ],
     "language": "python",
     "metadata": {},
     "outputs": [],
     "prompt_number": 37
    },
    {
     "cell_type": "code",
     "collapsed": false,
     "input": [
      "def swap_helper( tenor, swap_rate ):\n",
      "    \n",
      "    swap = ql.SwapRateHelper(\n",
      "            ql.QuoteHandle( ql.SimpleQuote( swap_rate ) ),\n",
      "            ql.Period( tenor, ql.Years ),\n",
      "            calendar,\n",
      "            swFixedLegFrequency,\n",
      "            swFixedLegConvention,\n",
      "            swFixedLegDayCounter,\n",
      "            swFloatingLegIndex )\n",
      "    \n",
      "    return swap\n",
      "\n",
      "swap_market = [ swap_helper( t, r ) for t,r in zip( swap_maturities, swap_rates ) ]"
     ],
     "language": "python",
     "metadata": {},
     "outputs": [],
     "prompt_number": 38
    },
    {
     "cell_type": "code",
     "collapsed": false,
     "input": [
      "yieldcurve = ql.PiecewiseLogCubicDiscount(calc_date, depo_market + swap_market, day_count )"
     ],
     "language": "python",
     "metadata": {},
     "outputs": [],
     "prompt_number": 41
    },
    {
     "cell_type": "code",
     "collapsed": false,
     "input": [
      "# get spot rates\n",
      "spots = []\n",
      "tenors = []\n",
      "for d in yieldcurve.dates():\n",
      "    yrs = day_count.yearFraction(calc_date, d)\n",
      "    compounding = ql.Compounded\n",
      "    freq = ql.Semiannual\n",
      "    zero_rate = yieldcurve.zeroRate(yrs, compounding, freq)\n",
      "    tenors.append(yrs)\n",
      "    eq_rate = zero_rate.equivalentRate(day_count,\n",
      "                                       compounding,\n",
      "                                       freq,\n",
      "                                       calc_date,\n",
      "                                       d).rate()\n",
      "    spots.append(100*eq_rate)"
     ],
     "language": "python",
     "metadata": {},
     "outputs": [],
     "prompt_number": 42
    },
    {
     "cell_type": "code",
     "collapsed": false,
     "input": [
      "plt.plot( tenors, spots )"
     ],
     "language": "python",
     "metadata": {},
     "outputs": [
      {
       "metadata": {},
       "output_type": "pyout",
       "prompt_number": 44,
       "text": [
        "[<matplotlib.lines.Line2D at 0x7f26d01d4490>]"
       ]
      },
      {
       "metadata": {},
       "output_type": "display_data",
       "png": "[encoded data removed]",
       "text": [
        "<matplotlib.figure.Figure at 0x7f26cfef5ad0>"
       ]
      }
     ],
     "prompt_number": 44
    },
    {
     "cell_type": "markdown",
     "metadata": {},
     "source": [
      "Looks like the kink around 1y is related how interpolation algo handles rates discontinuities"
     ]
    },
    {
     "cell_type": "code",
     "collapsed": false,
     "input": [],
     "language": "python",
     "metadata": {},
     "outputs": []
    }
   ],
   "metadata": {}
  }
 ]
}