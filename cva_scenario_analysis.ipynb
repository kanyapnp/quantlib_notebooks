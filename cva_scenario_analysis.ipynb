{
 "metadata": {
  "name": "",
  "signature": "sha256:e27d0d9577ae6e2fb6c85d75e7efc3ae1170bb51d7cc9d5db907d3f491e0341a"
 },
 "nbformat": 3,
 "nbformat_minor": 0,
 "worksheets": [
  {
   "cells": [
    {
     "cell_type": "code",
     "collapsed": false,
     "input": [
      "import matplotlib.pyplot as plt\n",
      "import numpy as np\n",
      "import pandas as pd\n",
      "import seaborn as sns\n",
      "\n",
      "from calc_cva import calc_cva, worker_calc_cva\n",
      "from multiprocessing import Pool\n",
      "\n",
      "sns.set()\n",
      "\n",
      "%matplotlib inline"
     ],
     "language": "python",
     "metadata": {},
     "outputs": [
      {
       "ename": "ImportError",
       "evalue": "No module named seaborn",
       "output_type": "pyerr",
       "traceback": [
        "\u001b[0;31m---------------------------------------------------------------------------\u001b[0m\n\u001b[0;31mImportError\u001b[0m                               Traceback (most recent call last)",
        "\u001b[0;32m<ipython-input-1-fe8629c3f4f8>\u001b[0m in \u001b[0;36m<module>\u001b[0;34m()\u001b[0m\n\u001b[1;32m      2\u001b[0m \u001b[0;32mimport\u001b[0m \u001b[0mnumpy\u001b[0m \u001b[0;32mas\u001b[0m \u001b[0mnp\u001b[0m\u001b[0;34m\u001b[0m\u001b[0m\n\u001b[1;32m      3\u001b[0m \u001b[0;32mimport\u001b[0m \u001b[0mpandas\u001b[0m \u001b[0;32mas\u001b[0m \u001b[0mpd\u001b[0m\u001b[0;34m\u001b[0m\u001b[0m\n\u001b[0;32m----> 4\u001b[0;31m \u001b[0;32mimport\u001b[0m \u001b[0mseaborn\u001b[0m \u001b[0;32mas\u001b[0m \u001b[0msns\u001b[0m\u001b[0;34m\u001b[0m\u001b[0m\n\u001b[0m\u001b[1;32m      5\u001b[0m \u001b[0;34m\u001b[0m\u001b[0m\n\u001b[1;32m      6\u001b[0m \u001b[0;32mfrom\u001b[0m \u001b[0mcalc_cva\u001b[0m \u001b[0;32mimport\u001b[0m \u001b[0mcalc_cva\u001b[0m\u001b[0;34m,\u001b[0m \u001b[0mworker_calc_cva\u001b[0m\u001b[0;34m\u001b[0m\u001b[0m\n",
        "\u001b[0;31mImportError\u001b[0m: No module named seaborn"
       ]
      }
     ],
     "prompt_number": 1
    },
    {
     "cell_type": "markdown",
     "metadata": {},
     "source": [
      "Let's price an IR swap off the flat curve (for simplicity).  The MC engine uses enhanced Hull-White model with the dynamics given by: $$ dr(t) = \\kappa(t)(\\theta(t) - r(t))dt +\\sigma_r(t)dW(t) $$,  where $ \\kappa, \\sigma_r $ are piecewise linear constants.  In this experiment we will use vol of 0.75%.  \n",
      "The default probabilities are specified from linear hazard curve.  Hazard process and rate processes are uncorrelated.  \n",
      "The following section will calculate cva and expected exposure for payer 5y IR swap with spot hazard rate of 2% and flat forward curve of 3%:"
     ]
    },
    {
     "cell_type": "code",
     "collapsed": false,
     "input": [
      "cva, ee, eestd = calc_cva( hazard_rate=0.02, market_rate=0.03 )"
     ],
     "language": "python",
     "metadata": {},
     "outputs": []
    },
    {
     "cell_type": "code",
     "collapsed": false,
     "input": [
      "print( 'Calculated cva: {0:.3f} [bps]'.format( cva ) )\n",
      "print( 'Mean(EE): {0:.3f} [bps], std(EE): {1:.3f} [bps]'.format( ee.mean(), eestd.mean() ) )\n",
      "plt.plot( np.arange( ee.shape[0] ), ee, 'b' )\n",
      "plt.ylabel( 'Expected Exposure' ); plt.xlabel( 'Months' );"
     ],
     "language": "python",
     "metadata": {},
     "outputs": []
    },
    {
     "cell_type": "markdown",
     "metadata": {},
     "source": [
      "Let's calculate scenario analysis for different combinations of hazard rates and market rates"
     ]
    },
    {
     "cell_type": "code",
     "collapsed": false,
     "input": [
      "pool = Pool()\n",
      "\n",
      "def calc_scenario( pool, x0, y0, xvals, yvals, xname, yname ):\n",
      "    'returns scenario matrix centers around (x0,y0)'\n",
      "    \n",
      "    grid = np.meshgrid( xvals, yvals )\n",
      "\n",
      "    def arg_generator():\n",
      "        yield { xname: x0, yname: y0 }\n",
      "        for x in range( grid[0].shape[0] ):\n",
      "            for y in range( grid[0].shape[1] ):\n",
      "                yield { xname: grid[0][ x, y ], yname: grid[1][ x, y ] }\n",
      "                \n",
      "    scen = pool.map( worker_calc_cva, arg_generator() )\n",
      "    \n",
      "    # convert scenario to 2d matrix - less value [0]\n",
      "    mat = np.reshape( scen[1:], (len(xvals),len(yvals)) ) - scen[0]\n",
      "    \n",
      "    return mat"
     ],
     "language": "python",
     "metadata": {},
     "outputs": []
    },
    {
     "cell_type": "markdown",
     "metadata": {},
     "source": [
      "Scenario for hazard_rate / market_rate.  Values in bps centered around (0.02, 0.03)"
     ]
    },
    {
     "cell_type": "code",
     "collapsed": false,
     "input": [
      "#set up grid (hazard_rate, market_rate)\n",
      "hrs = [ 0.01, 0.02, 0.025, 0.04, 0.05 ]\n",
      "mrs = [ 0.025, 0.03, 0.035, 0.05, 0.10 ]\n",
      "hm_scenario = calc_scenario( pool, 0.02, 0.03, hrs, mrs, 'hazard_rate', 'market_rate' )\n",
      "\n",
      "df = pd.DataFrame( hm_scenario, columns=mrs, index=hrs )\n",
      "sns.heatmap(df, annot=True, fmt='.1f', cmap='YlGnBu', linewidths=.5 )\n",
      "plt.xlabel( 'market_rate' )\n",
      "plt.ylabel( 'hazard_rate' )"
     ],
     "language": "python",
     "metadata": {},
     "outputs": []
    },
    {
     "cell_type": "markdown",
     "metadata": {},
     "source": [
      "Scenario for ir_vol / market_rate.  Values in bps centered around (0.0075, 0.03)"
     ]
    },
    {
     "cell_type": "code",
     "collapsed": false,
     "input": [
      "#set up grid (ir_vol, market_rate)\n",
      "vols = [ 0.007, 0.0075, 0.0080, 0.01, 0.05 ]\n",
      "mrs = [ 0.025, 0.03, 0.03, 0.035, 0.10 ]\n",
      "vm_scenario = calc_scenario( pool, 0.0075, 0.03, vols, mrs, 'ir_vol', 'market_rate' )\n",
      "\n",
      "df = pd.DataFrame( vm_scenario, columns=mrs, index=vols )\n",
      "sns.heatmap(df, annot=True, fmt='.1f', cmap='YlGnBu', linewidths=.5 )\n",
      "plt.xlabel( 'market_rate' )\n",
      "plt.ylabel( 'ir_vol' )"
     ],
     "language": "python",
     "metadata": {},
     "outputs": []
    },
    {
     "cell_type": "code",
     "collapsed": false,
     "input": [],
     "language": "python",
     "metadata": {},
     "outputs": []
    }
   ],
   "metadata": {}
  }
 ]
}